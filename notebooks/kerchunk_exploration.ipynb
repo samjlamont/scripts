{
 "cells": [
  {
   "cell_type": "markdown",
   "id": "e094c8e5-da1c-44df-9973-befa2b09c7a3",
   "metadata": {},
   "source": [
    "## Kerchunk exploration\n",
    "\n",
    "We can use Kerchunk to build a reference file which maps the chunking scheme of existing data sets.<br>\n",
    "This allows us to access the data efficiently using zarr machinery but without actually copying the data.  The caveat is we're stuck with the native chunking and compression scheme\n",
    "\n",
    "see: https://fsspec.github.io/kerchunk/tutorial.html"
   ]
  },
  {
   "cell_type": "code",
   "execution_count": null,
   "id": "972308fc-d9ae-46e8-9b42-164883bb880e",
   "metadata": {},
   "outputs": [],
   "source": [
    "! pip install git+https://github.com/fsspec/kerchunk h5py"
   ]
  },
  {
   "cell_type": "code",
   "execution_count": null,
   "id": "f7b51fc8-56c8-4f3c-bc39-dc09ab137d05",
   "metadata": {},
   "outputs": [],
   "source": [
    "from kerchunk.hdf import SingleHdf5ToZarr\n",
    "from kerchunk.combine import MultiZarrToZarr\n",
    "import fsspec\n",
    "import xarray as xr\n",
    "import ujson"
   ]
  },
  {
   "cell_type": "code",
   "execution_count": null,
   "id": "20c817fd-9b19-4aca-aa89-116d12000702",
   "metadata": {},
   "outputs": [],
   "source": [
    "%%time\n",
    "\n",
    "# Establish a GCS file system to manage our file in the GCS bucket of interest\n",
    "fs = fsspec.filesystem('gcs', anon=True)\n",
    "\n",
    "# Let's checkout some existing 1C data\n",
    "# flist = (fs.glob('gs://oc-flood/jma-hist-rainfall-interpolated-nc-v2/*.nc'))  # JMA\n",
    "flist = (fs.glob('gs://oc-flood/jwa-historical-reanalysis-rainfall-netcdf/*.nc'))  # JWA\n",
    "# flist = (fs.glob(\"gs://flood-pipeline/dev/data/weatherdata/gfs_3h/v3.0.0/coastal/*\"))  # GFS\n",
    "\n",
    "# You need to add the gs:// part\n",
    "flist = [\"gcs://\" + p for p in flist]\n",
    "flist[:4]"
   ]
  },
  {
   "cell_type": "code",
   "execution_count": null,
   "id": "c9a23480-2586-4485-8811-6ffba1f071fb",
   "metadata": {},
   "outputs": [],
   "source": [
    "len(flist)"
   ]
  },
  {
   "cell_type": "code",
   "execution_count": null,
   "id": "ff6222e2-11d5-458d-a734-560ee8b8a699",
   "metadata": {
    "tags": []
   },
   "outputs": [],
   "source": [
    "%%time\n",
    "# Get the single jsons into a list from the file gcs urls\n",
    "so = dict(\n",
    "    anon=True, default_fill_cache=False, default_cache_type='first'\n",
    ")\n",
    "lst_singles = []\n",
    "for file_url in flist:\n",
    "    with fs.open(file_url, **so) as infile:\n",
    "        h5chunks = SingleHdf5ToZarr(infile, file_url, inline_threshold=300)\n",
    "        lst_singles.append(h5chunks.translate())"
   ]
  },
  {
   "cell_type": "code",
   "execution_count": null,
   "id": "90791dea-e93d-4595-809d-07f6f83b30b3",
   "metadata": {},
   "outputs": [],
   "source": [
    "%%time\n",
    "# Now aggregate as a multi-file into variable out\n",
    "mzz = MultiZarrToZarr(\n",
    "    lst_singles[61:],\n",
    "    remote_protocol=\"gcs\",\n",
    "    remote_options={'anon': True},\n",
    "    concat_dims=[\"time\"],\n",
    ")\n",
    "\n",
    "out = mzz.translate()"
   ]
  },
  {
   "cell_type": "code",
   "execution_count": null,
   "id": "1125093f-9755-46be-8fd2-7a2c85a5b437",
   "metadata": {},
   "outputs": [],
   "source": [
    "# Now read in out entire list of files into one xarray dataset using the zarr engine\n",
    "ds = xr.open_dataset(\n",
    "    \"reference://\", engine=\"zarr\",\n",
    "    backend_kwargs={\n",
    "        \"storage_options\": {\n",
    "            \"fo\": out,\n",
    "            \"remote_protocol\": \"gcs\",\n",
    "            \"remote_options\": {\"anon\": True}\n",
    "        },\n",
    "        \"consolidated\": False\n",
    "    }\n",
    ")\n",
    "ds"
   ]
  },
  {
   "cell_type": "code",
   "execution_count": null,
   "id": "d2ddc546-c8a4-476d-90cb-4249da5fa77b",
   "metadata": {},
   "outputs": [],
   "source": [
    "# Optionally save to local file\n",
    "fs2 = fsspec.filesystem('')  #local file system to save final jsons to\n",
    "with fs2.open(\"/Users/slamont/jwa/jwa_historical_reanalysis_rainfall_netcdf_20191101_20201231.json\", 'wb') as f:\n",
    "    f.write(ujson.dumps(out).encode())"
   ]
  },
  {
   "cell_type": "markdown",
   "id": "9095d343-2c10-4113-8cf0-94d79cdb3700",
   "metadata": {},
   "source": [
    "#### Now we can read in the Kerchunk reference json file as an xarray dataset"
   ]
  },
  {
   "cell_type": "code",
   "execution_count": null,
   "id": "a4bc0871-2c3b-44f0-bab7-25144ca9c6d9",
   "metadata": {},
   "outputs": [],
   "source": [
    "# Read in the remote json\n",
    "# sam-temp-dev/kerchunk/jma_hist_rainfall_interpolated_nc_v2_consolidated_19890101_20010331.json\n",
    "# sam-temp-dev/kerchunk/jma_hist_rainfall_interpolated_nc_v2_consolidated_20020401_20051231.json\n",
    "# sam-temp-dev/kerchunk/jma_hist_rainfall_interpolated_nc_v2_consolidated_20060101_20190930.json\n",
    "\n",
    "# remote_path = \"gs://sam-temp-dev/kerchunk/jma_hist_rainfall_interpolated_nc_v2_consolidated_20060101_20190930.json\"  # JMA\n",
    "remote_path = \"gs://sam-temp-dev/kerchunk/jwa_historical_reanalysis_rainfall_netcdf_20191101_20201231.json\"  # JWA\n",
    "\n",
    "ds = xr.open_dataset(\n",
    "    \"reference://\", engine=\"zarr\",\n",
    "    backend_kwargs={\n",
    "        \"storage_options\": {\n",
    "            \"fo\": remote_path,\n",
    "            \"remote_protocol\": \"gcs\",\n",
    "            \"remote_options\": {\"anon\": True}\n",
    "        },\n",
    "        \"consolidated\": False\n",
    "    }\n",
    ")\n",
    "ds"
   ]
  },
  {
   "cell_type": "code",
   "execution_count": null,
   "id": "0f1b11a8-8223-486f-bc64-a0d3474d97f0",
   "metadata": {},
   "outputs": [],
   "source": [
    "%%time\n",
    "import rioxarray\n",
    "\n",
    "# Now we can do computations and stuff!\n",
    "# ds.rainrate.sel(latitude=25.07, longitude=125.6, method=\"nearest\").values\n",
    "# ds.rainrate.sel(time=\"1989-01-30 12:00\").plot()\n",
    "\n",
    "ds.rainrate.sel(time=slice(\"2006-01-01 00:00\", \"2006-01-01 23:00\")).max(dim=\"time\").plot()\n",
    "ds = ds.rio.write_crs(4326, inplace=True)\n",
    "gdf = gpd.read_file(\"/Users/slamont/japan_gis/geo_boundaries_shp/cities_107_with_grid_num.geojson\")\n",
    "ds.rainrate.sel(time=\"1989-01-30 12:00\").rio.clip(gdf.geometry).plot()"
   ]
  }
 ],
 "metadata": {
  "kernelspec": {
   "display_name": "Python 3 (ipykernel)",
   "language": "python",
   "name": "python3"
  },
  "language_info": {
   "codemirror_mode": {
    "name": "ipython",
    "version": 3
   },
   "file_extension": ".py",
   "mimetype": "text/x-python",
   "name": "python",
   "nbconvert_exporter": "python",
   "pygments_lexer": "ipython3",
   "version": "3.10.6"
  }
 },
 "nbformat": 4,
 "nbformat_minor": 5
}
