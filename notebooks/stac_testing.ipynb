{
 "cells": [
  {
   "cell_type": "markdown",
   "id": "2e2013e0-a1d7-4b64-921d-a9014beb04b8",
   "metadata": {},
   "source": [
    "### Creating a test One Concern STAC catalog "
   ]
  },
  {
   "cell_type": "code",
   "execution_count": 1,
   "id": "2eb8cfe5-258e-4b02-9cf2-bae8eb07e7e0",
   "metadata": {},
   "outputs": [],
   "source": [
    "from pathlib import Path\n",
    "import pystac\n",
    "from pystac.extensions.projection import AssetProjectionExtension\n",
    "import fsspec\n",
    "import xarray as xr\n",
    "import rasterio\n",
    "import pandas as pd\n",
    "import json"
   ]
  },
  {
   "cell_type": "code",
   "execution_count": 2,
   "id": "23eaff39-ced5-4c91-9e12-4cf821ed82ed",
   "metadata": {},
   "outputs": [],
   "source": [
    "def get_bbox(ds):\n",
    "    return ds.longitude.values.min(), ds.latitude.values.min(), ds.longitude.values.max(), ds.latitude.values.max()"
   ]
  },
  {
   "cell_type": "code",
   "execution_count": 19,
   "id": "e1b55bef-d461-485a-b478-f841d3f2716b",
   "metadata": {},
   "outputs": [
    {
     "data": {
      "text/html": [
       "<div><svg style=\"position: absolute; width: 0; height: 0; overflow: hidden\">\n",
       "<defs>\n",
       "<symbol id=\"icon-database\" viewBox=\"0 0 32 32\">\n",
       "<path d=\"M16 0c-8.837 0-16 2.239-16 5v4c0 2.761 7.163 5 16 5s16-2.239 16-5v-4c0-2.761-7.163-5-16-5z\"></path>\n",
       "<path d=\"M16 17c-8.837 0-16-2.239-16-5v6c0 2.761 7.163 5 16 5s16-2.239 16-5v-6c0 2.761-7.163 5-16 5z\"></path>\n",
       "<path d=\"M16 26c-8.837 0-16-2.239-16-5v6c0 2.761 7.163 5 16 5s16-2.239 16-5v-6c0 2.761-7.163 5-16 5z\"></path>\n",
       "</symbol>\n",
       "<symbol id=\"icon-file-text2\" viewBox=\"0 0 32 32\">\n",
       "<path d=\"M28.681 7.159c-0.694-0.947-1.662-2.053-2.724-3.116s-2.169-2.030-3.116-2.724c-1.612-1.182-2.393-1.319-2.841-1.319h-15.5c-1.378 0-2.5 1.121-2.5 2.5v27c0 1.378 1.122 2.5 2.5 2.5h23c1.378 0 2.5-1.122 2.5-2.5v-19.5c0-0.448-0.137-1.23-1.319-2.841zM24.543 5.457c0.959 0.959 1.712 1.825 2.268 2.543h-4.811v-4.811c0.718 0.556 1.584 1.309 2.543 2.268zM28 29.5c0 0.271-0.229 0.5-0.5 0.5h-23c-0.271 0-0.5-0.229-0.5-0.5v-27c0-0.271 0.229-0.5 0.5-0.5 0 0 15.499-0 15.5 0v7c0 0.552 0.448 1 1 1h7v19.5z\"></path>\n",
       "<path d=\"M23 26h-14c-0.552 0-1-0.448-1-1s0.448-1 1-1h14c0.552 0 1 0.448 1 1s-0.448 1-1 1z\"></path>\n",
       "<path d=\"M23 22h-14c-0.552 0-1-0.448-1-1s0.448-1 1-1h14c0.552 0 1 0.448 1 1s-0.448 1-1 1z\"></path>\n",
       "<path d=\"M23 18h-14c-0.552 0-1-0.448-1-1s0.448-1 1-1h14c0.552 0 1 0.448 1 1s-0.448 1-1 1z\"></path>\n",
       "</symbol>\n",
       "</defs>\n",
       "</svg>\n",
       "<style>/* CSS stylesheet for displaying xarray objects in jupyterlab.\n",
       " *\n",
       " */\n",
       "\n",
       ":root {\n",
       "  --xr-font-color0: var(--jp-content-font-color0, rgba(0, 0, 0, 1));\n",
       "  --xr-font-color2: var(--jp-content-font-color2, rgba(0, 0, 0, 0.54));\n",
       "  --xr-font-color3: var(--jp-content-font-color3, rgba(0, 0, 0, 0.38));\n",
       "  --xr-border-color: var(--jp-border-color2, #e0e0e0);\n",
       "  --xr-disabled-color: var(--jp-layout-color3, #bdbdbd);\n",
       "  --xr-background-color: var(--jp-layout-color0, white);\n",
       "  --xr-background-color-row-even: var(--jp-layout-color1, white);\n",
       "  --xr-background-color-row-odd: var(--jp-layout-color2, #eeeeee);\n",
       "}\n",
       "\n",
       "html[theme=dark],\n",
       "body[data-theme=dark],\n",
       "body.vscode-dark {\n",
       "  --xr-font-color0: rgba(255, 255, 255, 1);\n",
       "  --xr-font-color2: rgba(255, 255, 255, 0.54);\n",
       "  --xr-font-color3: rgba(255, 255, 255, 0.38);\n",
       "  --xr-border-color: #1F1F1F;\n",
       "  --xr-disabled-color: #515151;\n",
       "  --xr-background-color: #111111;\n",
       "  --xr-background-color-row-even: #111111;\n",
       "  --xr-background-color-row-odd: #313131;\n",
       "}\n",
       "\n",
       ".xr-wrap {\n",
       "  display: block !important;\n",
       "  min-width: 300px;\n",
       "  max-width: 700px;\n",
       "}\n",
       "\n",
       ".xr-text-repr-fallback {\n",
       "  /* fallback to plain text repr when CSS is not injected (untrusted notebook) */\n",
       "  display: none;\n",
       "}\n",
       "\n",
       ".xr-header {\n",
       "  padding-top: 6px;\n",
       "  padding-bottom: 6px;\n",
       "  margin-bottom: 4px;\n",
       "  border-bottom: solid 1px var(--xr-border-color);\n",
       "}\n",
       "\n",
       ".xr-header > div,\n",
       ".xr-header > ul {\n",
       "  display: inline;\n",
       "  margin-top: 0;\n",
       "  margin-bottom: 0;\n",
       "}\n",
       "\n",
       ".xr-obj-type,\n",
       ".xr-array-name {\n",
       "  margin-left: 2px;\n",
       "  margin-right: 10px;\n",
       "}\n",
       "\n",
       ".xr-obj-type {\n",
       "  color: var(--xr-font-color2);\n",
       "}\n",
       "\n",
       ".xr-sections {\n",
       "  padding-left: 0 !important;\n",
       "  display: grid;\n",
       "  grid-template-columns: 150px auto auto 1fr 20px 20px;\n",
       "}\n",
       "\n",
       ".xr-section-item {\n",
       "  display: contents;\n",
       "}\n",
       "\n",
       ".xr-section-item input {\n",
       "  display: none;\n",
       "}\n",
       "\n",
       ".xr-section-item input + label {\n",
       "  color: var(--xr-disabled-color);\n",
       "}\n",
       "\n",
       ".xr-section-item input:enabled + label {\n",
       "  cursor: pointer;\n",
       "  color: var(--xr-font-color2);\n",
       "}\n",
       "\n",
       ".xr-section-item input:enabled + label:hover {\n",
       "  color: var(--xr-font-color0);\n",
       "}\n",
       "\n",
       ".xr-section-summary {\n",
       "  grid-column: 1;\n",
       "  color: var(--xr-font-color2);\n",
       "  font-weight: 500;\n",
       "}\n",
       "\n",
       ".xr-section-summary > span {\n",
       "  display: inline-block;\n",
       "  padding-left: 0.5em;\n",
       "}\n",
       "\n",
       ".xr-section-summary-in:disabled + label {\n",
       "  color: var(--xr-font-color2);\n",
       "}\n",
       "\n",
       ".xr-section-summary-in + label:before {\n",
       "  display: inline-block;\n",
       "  content: '►';\n",
       "  font-size: 11px;\n",
       "  width: 15px;\n",
       "  text-align: center;\n",
       "}\n",
       "\n",
       ".xr-section-summary-in:disabled + label:before {\n",
       "  color: var(--xr-disabled-color);\n",
       "}\n",
       "\n",
       ".xr-section-summary-in:checked + label:before {\n",
       "  content: '▼';\n",
       "}\n",
       "\n",
       ".xr-section-summary-in:checked + label > span {\n",
       "  display: none;\n",
       "}\n",
       "\n",
       ".xr-section-summary,\n",
       ".xr-section-inline-details {\n",
       "  padding-top: 4px;\n",
       "  padding-bottom: 4px;\n",
       "}\n",
       "\n",
       ".xr-section-inline-details {\n",
       "  grid-column: 2 / -1;\n",
       "}\n",
       "\n",
       ".xr-section-details {\n",
       "  display: none;\n",
       "  grid-column: 1 / -1;\n",
       "  margin-bottom: 5px;\n",
       "}\n",
       "\n",
       ".xr-section-summary-in:checked ~ .xr-section-details {\n",
       "  display: contents;\n",
       "}\n",
       "\n",
       ".xr-array-wrap {\n",
       "  grid-column: 1 / -1;\n",
       "  display: grid;\n",
       "  grid-template-columns: 20px auto;\n",
       "}\n",
       "\n",
       ".xr-array-wrap > label {\n",
       "  grid-column: 1;\n",
       "  vertical-align: top;\n",
       "}\n",
       "\n",
       ".xr-preview {\n",
       "  color: var(--xr-font-color3);\n",
       "}\n",
       "\n",
       ".xr-array-preview,\n",
       ".xr-array-data {\n",
       "  padding: 0 5px !important;\n",
       "  grid-column: 2;\n",
       "}\n",
       "\n",
       ".xr-array-data,\n",
       ".xr-array-in:checked ~ .xr-array-preview {\n",
       "  display: none;\n",
       "}\n",
       "\n",
       ".xr-array-in:checked ~ .xr-array-data,\n",
       ".xr-array-preview {\n",
       "  display: inline-block;\n",
       "}\n",
       "\n",
       ".xr-dim-list {\n",
       "  display: inline-block !important;\n",
       "  list-style: none;\n",
       "  padding: 0 !important;\n",
       "  margin: 0;\n",
       "}\n",
       "\n",
       ".xr-dim-list li {\n",
       "  display: inline-block;\n",
       "  padding: 0;\n",
       "  margin: 0;\n",
       "}\n",
       "\n",
       ".xr-dim-list:before {\n",
       "  content: '(';\n",
       "}\n",
       "\n",
       ".xr-dim-list:after {\n",
       "  content: ')';\n",
       "}\n",
       "\n",
       ".xr-dim-list li:not(:last-child):after {\n",
       "  content: ',';\n",
       "  padding-right: 5px;\n",
       "}\n",
       "\n",
       ".xr-has-index {\n",
       "  font-weight: bold;\n",
       "}\n",
       "\n",
       ".xr-var-list,\n",
       ".xr-var-item {\n",
       "  display: contents;\n",
       "}\n",
       "\n",
       ".xr-var-item > div,\n",
       ".xr-var-item label,\n",
       ".xr-var-item > .xr-var-name span {\n",
       "  background-color: var(--xr-background-color-row-even);\n",
       "  margin-bottom: 0;\n",
       "}\n",
       "\n",
       ".xr-var-item > .xr-var-name:hover span {\n",
       "  padding-right: 5px;\n",
       "}\n",
       "\n",
       ".xr-var-list > li:nth-child(odd) > div,\n",
       ".xr-var-list > li:nth-child(odd) > label,\n",
       ".xr-var-list > li:nth-child(odd) > .xr-var-name span {\n",
       "  background-color: var(--xr-background-color-row-odd);\n",
       "}\n",
       "\n",
       ".xr-var-name {\n",
       "  grid-column: 1;\n",
       "}\n",
       "\n",
       ".xr-var-dims {\n",
       "  grid-column: 2;\n",
       "}\n",
       "\n",
       ".xr-var-dtype {\n",
       "  grid-column: 3;\n",
       "  text-align: right;\n",
       "  color: var(--xr-font-color2);\n",
       "}\n",
       "\n",
       ".xr-var-preview {\n",
       "  grid-column: 4;\n",
       "}\n",
       "\n",
       ".xr-var-name,\n",
       ".xr-var-dims,\n",
       ".xr-var-dtype,\n",
       ".xr-preview,\n",
       ".xr-attrs dt {\n",
       "  white-space: nowrap;\n",
       "  overflow: hidden;\n",
       "  text-overflow: ellipsis;\n",
       "  padding-right: 10px;\n",
       "}\n",
       "\n",
       ".xr-var-name:hover,\n",
       ".xr-var-dims:hover,\n",
       ".xr-var-dtype:hover,\n",
       ".xr-attrs dt:hover {\n",
       "  overflow: visible;\n",
       "  width: auto;\n",
       "  z-index: 1;\n",
       "}\n",
       "\n",
       ".xr-var-attrs,\n",
       ".xr-var-data {\n",
       "  display: none;\n",
       "  background-color: var(--xr-background-color) !important;\n",
       "  padding-bottom: 5px !important;\n",
       "}\n",
       "\n",
       ".xr-var-attrs-in:checked ~ .xr-var-attrs,\n",
       ".xr-var-data-in:checked ~ .xr-var-data {\n",
       "  display: block;\n",
       "}\n",
       "\n",
       ".xr-var-data > table {\n",
       "  float: right;\n",
       "}\n",
       "\n",
       ".xr-var-name span,\n",
       ".xr-var-data,\n",
       ".xr-attrs {\n",
       "  padding-left: 25px !important;\n",
       "}\n",
       "\n",
       ".xr-attrs,\n",
       ".xr-var-attrs,\n",
       ".xr-var-data {\n",
       "  grid-column: 1 / -1;\n",
       "}\n",
       "\n",
       "dl.xr-attrs {\n",
       "  padding: 0;\n",
       "  margin: 0;\n",
       "  display: grid;\n",
       "  grid-template-columns: 125px auto;\n",
       "}\n",
       "\n",
       ".xr-attrs dt,\n",
       ".xr-attrs dd {\n",
       "  padding: 0;\n",
       "  margin: 0;\n",
       "  float: left;\n",
       "  padding-right: 10px;\n",
       "  width: auto;\n",
       "}\n",
       "\n",
       ".xr-attrs dt {\n",
       "  font-weight: normal;\n",
       "  grid-column: 1;\n",
       "}\n",
       "\n",
       ".xr-attrs dt:hover span {\n",
       "  display: inline-block;\n",
       "  background: var(--xr-background-color);\n",
       "  padding-right: 10px;\n",
       "}\n",
       "\n",
       ".xr-attrs dd {\n",
       "  grid-column: 2;\n",
       "  white-space: pre-wrap;\n",
       "  word-break: break-all;\n",
       "}\n",
       "\n",
       ".xr-icon-database,\n",
       ".xr-icon-file-text2 {\n",
       "  display: inline-block;\n",
       "  vertical-align: middle;\n",
       "  width: 1em;\n",
       "  height: 1.5em !important;\n",
       "  stroke-width: 0;\n",
       "  stroke: currentColor;\n",
       "  fill: currentColor;\n",
       "}\n",
       "</style><pre class='xr-text-repr-fallback'>&lt;xarray.Dataset&gt;\n",
       "Dimensions:    (latitude: 3360, longitude: 2560, time: 10248)\n",
       "Coordinates:\n",
       "  * latitude   (latitude) float64 20.0 20.01 20.02 20.03 ... 47.98 47.99 48.0\n",
       "  * longitude  (longitude) float64 118.0 118.0 118.0 118.0 ... 150.0 150.0 150.0\n",
       "  * time       (time) datetime64[ns] 2019-11-01 ... 2020-12-31T23:00:00\n",
       "Data variables:\n",
       "    rainrate   (time, latitude, longitude) float32 ...</pre><div class='xr-wrap' style='display:none'><div class='xr-header'><div class='xr-obj-type'>xarray.Dataset</div></div><ul class='xr-sections'><li class='xr-section-item'><input id='section-a1e60a41-6be6-4639-a4fc-0bf6b3d10739' class='xr-section-summary-in' type='checkbox' disabled ><label for='section-a1e60a41-6be6-4639-a4fc-0bf6b3d10739' class='xr-section-summary'  title='Expand/collapse section'>Dimensions:</label><div class='xr-section-inline-details'><ul class='xr-dim-list'><li><span class='xr-has-index'>latitude</span>: 3360</li><li><span class='xr-has-index'>longitude</span>: 2560</li><li><span class='xr-has-index'>time</span>: 10248</li></ul></div><div class='xr-section-details'></div></li><li class='xr-section-item'><input id='section-cea5b246-bc84-4abb-9a05-191544f1575f' class='xr-section-summary-in' type='checkbox'  checked><label for='section-cea5b246-bc84-4abb-9a05-191544f1575f' class='xr-section-summary' >Coordinates: <span>(3)</span></label><div class='xr-section-inline-details'></div><div class='xr-section-details'><ul class='xr-var-list'><li class='xr-var-item'><div class='xr-var-name'><span class='xr-has-index'>latitude</span></div><div class='xr-var-dims'>(latitude)</div><div class='xr-var-dtype'>float64</div><div class='xr-var-preview xr-preview'>20.0 20.01 20.02 ... 47.99 48.0</div><input id='attrs-56c1e285-be0c-4dbf-ab1d-7c3dd5cfe2dc' class='xr-var-attrs-in' type='checkbox' ><label for='attrs-56c1e285-be0c-4dbf-ab1d-7c3dd5cfe2dc' title='Show/Hide attributes'><svg class='icon xr-icon-file-text2'><use xlink:href='#icon-file-text2'></use></svg></label><input id='data-ebd98a45-1b69-4199-9b8e-65c70a0a7f72' class='xr-var-data-in' type='checkbox'><label for='data-ebd98a45-1b69-4199-9b8e-65c70a0a7f72' title='Show/Hide data repr'><svg class='icon xr-icon-database'><use xlink:href='#icon-database'></use></svg></label><div class='xr-var-attrs'><dl class='xr-attrs'><dt><span>units :</span></dt><dd>degrees north</dd></dl></div><div class='xr-var-data'><pre>array([20.004167, 20.0125  , 20.020834, ..., 47.979166, 47.9875  , 47.995833])</pre></div></li><li class='xr-var-item'><div class='xr-var-name'><span class='xr-has-index'>longitude</span></div><div class='xr-var-dims'>(longitude)</div><div class='xr-var-dtype'>float64</div><div class='xr-var-preview xr-preview'>118.0 118.0 118.0 ... 150.0 150.0</div><input id='attrs-db522b61-c749-488c-ab7b-2f56b8a27fee' class='xr-var-attrs-in' type='checkbox' ><label for='attrs-db522b61-c749-488c-ab7b-2f56b8a27fee' title='Show/Hide attributes'><svg class='icon xr-icon-file-text2'><use xlink:href='#icon-file-text2'></use></svg></label><input id='data-cdf31317-a8b3-4eb3-b89a-0a2c73e24cfc' class='xr-var-data-in' type='checkbox'><label for='data-cdf31317-a8b3-4eb3-b89a-0a2c73e24cfc' title='Show/Hide data repr'><svg class='icon xr-icon-database'><use xlink:href='#icon-database'></use></svg></label><div class='xr-var-attrs'><dl class='xr-attrs'><dt><span>units :</span></dt><dd>degrees east</dd></dl></div><div class='xr-var-data'><pre>array([118.00625, 118.01875, 118.03125, ..., 149.96875, 149.98125, 149.99375])</pre></div></li><li class='xr-var-item'><div class='xr-var-name'><span class='xr-has-index'>time</span></div><div class='xr-var-dims'>(time)</div><div class='xr-var-dtype'>datetime64[ns]</div><div class='xr-var-preview xr-preview'>2019-11-01 ... 2020-12-31T23:00:00</div><input id='attrs-25f84701-4e95-43ef-bd28-8e0c7b3b4bab' class='xr-var-attrs-in' type='checkbox' disabled><label for='attrs-25f84701-4e95-43ef-bd28-8e0c7b3b4bab' title='Show/Hide attributes'><svg class='icon xr-icon-file-text2'><use xlink:href='#icon-file-text2'></use></svg></label><input id='data-35d04e8e-e52e-4dd4-9fe1-992b3caccb08' class='xr-var-data-in' type='checkbox'><label for='data-35d04e8e-e52e-4dd4-9fe1-992b3caccb08' title='Show/Hide data repr'><svg class='icon xr-icon-database'><use xlink:href='#icon-database'></use></svg></label><div class='xr-var-attrs'><dl class='xr-attrs'></dl></div><div class='xr-var-data'><pre>array([&#x27;2019-11-01T00:00:00.000000000&#x27;, &#x27;2019-11-01T01:00:00.000000000&#x27;,\n",
       "       &#x27;2019-11-01T02:00:00.000000000&#x27;, ..., &#x27;2020-12-31T21:00:00.000000000&#x27;,\n",
       "       &#x27;2020-12-31T22:00:00.000000000&#x27;, &#x27;2020-12-31T23:00:00.000000000&#x27;],\n",
       "      dtype=&#x27;datetime64[ns]&#x27;)</pre></div></li></ul></div></li><li class='xr-section-item'><input id='section-6f459f0b-84e2-41c9-95f2-46baaea29b5d' class='xr-section-summary-in' type='checkbox'  checked><label for='section-6f459f0b-84e2-41c9-95f2-46baaea29b5d' class='xr-section-summary' >Data variables: <span>(1)</span></label><div class='xr-section-inline-details'></div><div class='xr-section-details'><ul class='xr-var-list'><li class='xr-var-item'><div class='xr-var-name'><span>rainrate</span></div><div class='xr-var-dims'>(time, latitude, longitude)</div><div class='xr-var-dtype'>float32</div><div class='xr-var-preview xr-preview'>...</div><input id='attrs-b9e7dc25-2541-42a7-8a2f-67fb17b60b19' class='xr-var-attrs-in' type='checkbox' ><label for='attrs-b9e7dc25-2541-42a7-8a2f-67fb17b60b19' title='Show/Hide attributes'><svg class='icon xr-icon-file-text2'><use xlink:href='#icon-file-text2'></use></svg></label><input id='data-24f79608-4a96-4d08-a4c6-3ad08d62f624' class='xr-var-data-in' type='checkbox'><label for='data-24f79608-4a96-4d08-a4c6-3ad08d62f624' title='Show/Hide data repr'><svg class='icon xr-icon-database'><use xlink:href='#icon-database'></use></svg></label><div class='xr-var-attrs'><dl class='xr-attrs'><dt><span>units :</span></dt><dd>mm/h</dd></dl></div><div class='xr-var-data'><pre>[88149196800 values with dtype=float32]</pre></div></li></ul></div></li><li class='xr-section-item'><input id='section-036ad02d-1396-4b21-a1b2-575beb03b798' class='xr-section-summary-in' type='checkbox' disabled ><label for='section-036ad02d-1396-4b21-a1b2-575beb03b798' class='xr-section-summary'  title='Expand/collapse section'>Attributes: <span>(0)</span></label><div class='xr-section-inline-details'></div><div class='xr-section-details'><dl class='xr-attrs'></dl></div></li></ul></div></div>"
      ],
      "text/plain": [
       "<xarray.Dataset>\n",
       "Dimensions:    (latitude: 3360, longitude: 2560, time: 10248)\n",
       "Coordinates:\n",
       "  * latitude   (latitude) float64 20.0 20.01 20.02 20.03 ... 47.98 47.99 48.0\n",
       "  * longitude  (longitude) float64 118.0 118.0 118.0 118.0 ... 150.0 150.0 150.0\n",
       "  * time       (time) datetime64[ns] 2019-11-01 ... 2020-12-31T23:00:00\n",
       "Data variables:\n",
       "    rainrate   (time, latitude, longitude) float32 ..."
      ]
     },
     "execution_count": 19,
     "metadata": {},
     "output_type": "execute_result"
    }
   ],
   "source": [
    "jma_kerchunk_path = \"gs://sam-temp-dev/kerchunk/jma_hist_rainfall_interpolated_nc_v2_consolidated_20060101_20190930.json\"  # JMA\n",
    "jwa_kerchunk_path = \"gs://sam-temp-dev/kerchunk/jwa_historical_reanalysis_rainfall_netcdf_20191101_20201231.json\"  # JWA, Mind the gap!!\n",
    "\n",
    "ds_jma = xr.open_dataset(\n",
    "    \"reference://\", engine=\"zarr\",\n",
    "    backend_kwargs={\n",
    "        \"storage_options\": {\n",
    "            \"fo\": jma_kerchunk_path,\n",
    "            \"remote_protocol\": \"gcs\",\n",
    "            \"remote_options\": {\"anon\": True}\n",
    "        },\n",
    "        \"consolidated\": False\n",
    "    }\n",
    ")\n",
    "\n",
    "ds_jwa = xr.open_dataset(\n",
    "    \"reference://\", engine=\"zarr\",\n",
    "    backend_kwargs={\n",
    "        \"storage_options\": {\n",
    "            \"fo\": jwa_kerchunk_path,\n",
    "            \"remote_protocol\": \"gcs\",\n",
    "            \"remote_options\": {\"anon\": True}\n",
    "        },\n",
    "        \"consolidated\": False\n",
    "    }\n",
    ")\n",
    "\n",
    "ds_jwa"
   ]
  },
  {
   "cell_type": "code",
   "execution_count": 12,
   "id": "cf633e89-31c2-4769-8771-a6b9b3dcfc1b",
   "metadata": {},
   "outputs": [],
   "source": [
    "def create_xarray_dataset_item(ds: xr.Dataset,\n",
    "                               item_id: str,\n",
    "                               item_title: str,\n",
    "                               stac_extensions: list,\n",
    "                               item_href: str,\n",
    "                               asset_key: str,\n",
    "                               asset_name: str,\n",
    "                               asset_media_type: pystac.MediaType,\n",
    "                               asset_epsg: int,\n",
    "                               collection_name: str):\n",
    "    \n",
    "    bbox = get_bbox(ds)\n",
    "    start_time = pd.to_datetime(ds.isel(time=0).time.values)\n",
    "    end_time = pd.to_datetime(ds.isel(time=-1).time.values)\n",
    "    href = item_href\n",
    "\n",
    "    \n",
    "    item = pystac.Item(id=item_id,\n",
    "                       geometry=[],\n",
    "                       datetime=None,\n",
    "                       bbox=bbox,\n",
    "                       properties={\"institution\": \"One Concern\",\n",
    "                                    \"title\": item_title,\n",
    "                                    \"start_datetime\": start_time.strftime('%Y-%m-%d %H:00'),\n",
    "                                    \"end_datetime\": end_time.strftime('%Y-%m-%d %H:00')},\n",
    "                       stac_extensions=['https://stac-extensions.github.io/projection/v1.0.0/schema.json'],\n",
    "                       href=item_href)\n",
    "    \n",
    "    # Add asset\n",
    "    item.add_asset(key=asset_key, asset=pystac.Asset(href=item_href,\n",
    "                                                    title=asset_name,\n",
    "                                                    media_type=asset_media_type)) \n",
    "\n",
    "    # extend the asset with projection extension\n",
    "    asset_ext = AssetProjectionExtension.ext(item.assets[asset_key])\n",
    "    asset_ext.epsg = asset_epsg\n",
    "    asset_ext.shape = ds[asset_name].shape\n",
    "    asset_ext.bbox = bbox\n",
    "    asset_ext.transform = rasterio.transform.from_bounds(bbox[0], bbox[1], bbox[2], bbox[3], ds[asset_name].shape[1], ds[asset_name].shape[0])\n",
    "    \n",
    "    # if we add a collection we MUST add a link\n",
    "    item.add_link(\n",
    "        pystac.Link(\n",
    "            pystac.RelType.COLLECTION,\n",
    "            collection_name,\n",
    "            media_type=asset_media_type,\n",
    "        )\n",
    "    )\n",
    "\n",
    "    return item"
   ]
  },
  {
   "cell_type": "code",
   "execution_count": 13,
   "id": "3df651e4-8a42-4e30-b9d9-fc25f4b992af",
   "metadata": {},
   "outputs": [
    {
     "name": "stdout",
     "output_type": "stream",
     "text": [
      "CPU times: user 3.11 ms, sys: 1.59 ms, total: 4.71 ms\n",
      "Wall time: 3.27 ms\n"
     ]
    }
   ],
   "source": [
    "%%time\n",
    "\n",
    "# Create the initial\n",
    "catalog = pystac.Catalog(\n",
    "    id='One Concern STAC catalog',\n",
    "    description='Various One Concern datasets supporting dev and prod operations',\n",
    "    stac_extensions=[\"https://stac-extensions.github.io/projection/v1.0.0/schema.json\"],\n",
    "    href=\"gs://sam-temp-dev/stac\",\n",
    "    catalog_type=pystac.CatalogType.SELF_CONTAINED,\n",
    ")\n",
    "\n",
    "# Create an item for the weather data collection\n",
    "weather_data_collection_name = \"weather-data\"\n",
    "\n",
    "# Create an item to go into this collection\n",
    "item_jma = create_xarray_dataset_item(ds=ds_jma,\n",
    "                                      item_id=\"jma-historical-rainfall\",\n",
    "                                      item_title=\"JMA Interpolated Historical Rainfall (mm/hr)\",\n",
    "                                      stac_extensions=['https://stac-extensions.github.io/projection/v1.0.0/schema.json'],\n",
    "                                      item_href=jma_kerchunk_path,\n",
    "                                      asset_key=\"jma-rainrate\",\n",
    "                                      asset_name=\"rainrate\",\n",
    "                                      asset_media_type=pystac.MediaType.HDF5,\n",
    "                                      asset_epsg=4326,\n",
    "                                      collection_name=weather_data_collection_name)\n",
    "\n",
    "\n",
    "# Create the collection using the total temporal and spatial extents of all items it contains\n",
    "spatial_extent = pystac.SpatialExtent(bboxes=[item_jma.bbox])\n",
    "jma_start_time = item_jma.properties[\"start_datetime\"]\n",
    "jma_end_time = item_jma.properties[\"end_datetime\"]\n",
    "\n",
    "temporal_extent = pystac.TemporalExtent([[jma_start_time, jma_end_time]])\n",
    "collection_extent = pystac.Extent(spatial=spatial_extent, temporal=temporal_extent)\n",
    "collection = pystac.Collection(id=weather_data_collection_name,\n",
    "                               description=\"Historic rainfall and meteorological data from various sources (JMA, JWA, etc)\",\n",
    "                               extent=collection_extent,\n",
    "                               license=\"One Concern, Inc\")\n",
    "\n",
    "# Add item(s) to the collection\n",
    "collection.add_item(item_jma)\n",
    "\n",
    "# Add collection to the catalog\n",
    "catalog.add_child(collection)"
   ]
  },
  {
   "cell_type": "code",
   "execution_count": 15,
   "id": "3c8b5b57-9578-4a13-9303-2de96a91417e",
   "metadata": {},
   "outputs": [],
   "source": [
    "# catalog"
   ]
  },
  {
   "cell_type": "code",
   "execution_count": null,
   "id": "bdca2e3a-23d3-4968-bd62-1ad803476ada",
   "metadata": {},
   "outputs": [],
   "source": [
    "# catalog.make_all_asset_hrefs_relative()\n",
    "catalog.normalize_hrefs(\"gs://sam-temp-dev/stac/one-concern-stac-catalog\")\n",
    "catalog.get_self_href()"
   ]
  },
  {
   "cell_type": "code",
   "execution_count": null,
   "id": "3c44fe1e-3297-4543-bfa5-483410b28638",
   "metadata": {},
   "outputs": [],
   "source": [
    "catalog"
   ]
  },
  {
   "cell_type": "markdown",
   "id": "2c8fa9b9-1ba2-4aab-8f26-c7a0a58b9b47",
   "metadata": {},
   "source": [
    "### Write the catalog directly to GCS"
   ]
  },
  {
   "cell_type": "code",
   "execution_count": null,
   "id": "93758cef-8967-4c57-aecf-b64b415de65c",
   "metadata": {},
   "outputs": [],
   "source": [
    "%%time\n",
    "import gcsfs\n",
    "fs = gcsfs.GCSFileSystem()  # project='onec-dev'\n",
    "indent=2\n",
    "\n",
    "# Write catalog\n",
    "with fs.open(\"gs://sam-temp-dev/stac/one-concern-stac-catalog/catalog.json\", \"w\", content_type=\"application/json\") as f:\n",
    "    f.write(json.dumps(catalog.to_dict(), indent=indent))\n",
    "\n",
    "# Write collection\n",
    "with fs.open(\"gs://sam-temp-dev/stac/one-concern-stac-catalog/weather-data/collection.json\", \"w\", content_type=\"application/json\") as f:\n",
    "    f.write(json.dumps(collection.to_dict(), indent=indent))\n",
    "\n",
    "# Write item(s)\n",
    "with fs.open(\"gs://sam-temp-dev/stac/one-concern-stac-catalog/weather-data/jwa-historical-rainfall/jwa-historical-rainfall.json\", \"w\", content_type=\"application/json\") as f:\n",
    "    f.write(json.dumps(item.to_dict(), indent=indent))"
   ]
  },
  {
   "cell_type": "markdown",
   "id": "32a35878-fefe-40e4-8ac8-efedffc7d2fa",
   "metadata": {},
   "source": [
    "### To read the catalog from GCS, we need to re-define the StacIO class to use fsspec\n",
    "(taken from stactools: https://stactools.readthedocs.io/en/latest/_modules/stactools/core/io.html#FsspecStacIO)"
   ]
  },
  {
   "cell_type": "code",
   "execution_count": null,
   "id": "adfbb04d-fb56-41b2-97d6-b3a89b2f13f7",
   "metadata": {},
   "outputs": [],
   "source": [
    "from pystac.stac_io import DefaultStacIO, StacIO\n",
    "\n",
    "class FsspecStacIO(DefaultStacIO):\n",
    "    \"\"\"A subclass of :py:class:`pystac.DefaultStacIO` that uses `fsspec\n",
    "    <https://filesystem-spec.readthedocs.io/en/latest/>`_ for reads and writes.\n",
    "    \"\"\"\n",
    "\n",
    "    def read_text_from_href(self, href: str) -> str:\n",
    "        \"\"\"Reads a file as a utf-8 string using `fsspec\n",
    "        <https://filesystem-spec.readthedocs.io/en/latest/>`_\n",
    "\n",
    "        Args:\n",
    "            href (str): The href to read.\n",
    "\n",
    "        Returns:\n",
    "            str: The read text, decoded as utf-8 if necessary.\n",
    "        \"\"\" \n",
    "        with fsspec.open(href, \"r\") as f:\n",
    "            s = f.read()\n",
    "            if isinstance(s, str):\n",
    "                return s\n",
    "            elif isinstance(s, bytes):\n",
    "                return str(s, encoding=\"utf-8\")\n",
    "            else:\n",
    "                raise ValueError(f\"Unable to decode data loaded from HREF: {href}\")\n",
    "                \n",
    "StacIO.set_default(FsspecStacIO)"
   ]
  },
  {
   "cell_type": "code",
   "execution_count": null,
   "id": "c5227007-7f0f-4db3-b73d-610f3200994e",
   "metadata": {},
   "outputs": [],
   "source": [
    "pystac.Catalog.from_file(\"gs://sam-temp-dev/stac/one-concern-stac-catalog/catalog.json\")  #, stac_io=FsspecStacIO)"
   ]
  },
  {
   "cell_type": "markdown",
   "id": "ba0811e7-6a4c-4f11-9db0-d86df41eea6b",
   "metadata": {},
   "source": [
    "### Other testing is below here"
   ]
  },
  {
   "cell_type": "code",
   "execution_count": null,
   "id": "0f42b914-3cb0-40c4-a192-5d19edec2d28",
   "metadata": {},
   "outputs": [],
   "source": [
    "with fsspec.open(\"gs://sam-temp-dev/stac/one-concern-stac-catalog/catalog.json\") as file: \n",
    "    data = json.load(file)\n",
    "    \n",
    "cat_gcs = pystac.Catalog.from_dict(data) # , root=\"https://storage.cloud.google.com/sam-temp-dev/stac/one-concern-stac-catalog/catalog.json\")\n",
    "cat_gcs"
   ]
  },
  {
   "cell_type": "code",
   "execution_count": null,
   "id": "8371daab-ecb8-4c25-98a1-ab64a6a4adc1",
   "metadata": {},
   "outputs": [],
   "source": [
    "collections = list(catalog.get_collections())"
   ]
  },
  {
   "cell_type": "code",
   "execution_count": null,
   "id": "2f465dd4-d04f-40e9-b75b-5076f57671ed",
   "metadata": {},
   "outputs": [],
   "source": [
    "for collection in collections:\n",
    "    print(collection)"
   ]
  },
  {
   "cell_type": "code",
   "execution_count": null,
   "id": "70d338f3-1b84-408f-b6e7-c77b7fe0b8c4",
   "metadata": {},
   "outputs": [],
   "source": [
    "collection = catalog.get_child(\"weather-data\")\n",
    "collection"
   ]
  },
  {
   "cell_type": "code",
   "execution_count": null,
   "id": "e8271dd4-9d99-43cc-95af-68a2e7efd43a",
   "metadata": {},
   "outputs": [],
   "source": [
    "for root, subcategories, items in catalog.walk():\n",
    "\n",
    "    print('{} is the current root in the STAC'.format(root.id))\n",
    "    print('Are there any any STAC validation errors ?: {}'.format(root.validate()))\n",
    "    \n",
    "    for subcat in subcategories:\n",
    "        print('{} is a subcatalog or collection for the current root in the STAC'.format(subcat.id))\n",
    "        print('Are there any STAC validation errors ?: {}'.format(subcat.validate()))\n",
    "        \n",
    "    for item in items:\n",
    "        print('{} is a STAC Item within the current root'.format(item.id))\n",
    "        print('Are there any STAC validation errors ?: {}'.format(item.validate()))"
   ]
  },
  {
   "cell_type": "markdown",
   "id": "8e214c42-023c-403a-a4be-188042fdb777",
   "metadata": {},
   "source": [
    "### GEE STAC Catalog"
   ]
  },
  {
   "cell_type": "code",
   "execution_count": null,
   "id": "9692150c-42c2-45a2-856e-cbfd257db4f0",
   "metadata": {},
   "outputs": [],
   "source": [
    "gee_cat_path = \"https://earthengine-stac.storage.googleapis.com/catalog/catalog.json\""
   ]
  },
  {
   "cell_type": "code",
   "execution_count": null,
   "id": "737958cb-d42c-4394-bea0-f009aa451481",
   "metadata": {},
   "outputs": [],
   "source": [
    "sen2_level2a = \"https://storage.googleapis.com/earthengine-stac/catalog/COPERNICUS/COPERNICUS_S2_CLOUD_PROBABILITY.json\""
   ]
  },
  {
   "cell_type": "code",
   "execution_count": null,
   "id": "8a096e50-6113-42b0-9ec4-91d481f38f0a",
   "metadata": {},
   "outputs": [],
   "source": [
    "stac_url = (\n",
    "    \"https://earthengine-stac.storage.googleapis.com/catalog/catalog.json\"  # https://earthengine-stac.storage.googleapis.com/catalog/catalog.json\n",
    ")\n",
    "\n",
    "stac_url = \"https://storage.googleapis.com/earthengine-stac/catalog/COPERNICUS/catalog.json\"\n",
    "\n",
    "stac_url = 'https://storage.googleapis.com/earthengine-stac/catalog/COPERNICUS/COPERNICUS_S1_GRD.json'\n",
    "\n",
    "with urllib.request.urlopen(stac_url) as url:\n",
    "    data = json.loads(url.read().decode())\n"
   ]
  },
  {
   "cell_type": "code",
   "execution_count": null,
   "id": "bd1438d9-69d4-4061-aec8-42a192ee8232",
   "metadata": {},
   "outputs": [],
   "source": [
    "data"
   ]
  },
  {
   "cell_type": "code",
   "execution_count": null,
   "id": "253c5e12-08c7-4ec0-9862-b190a63d31f4",
   "metadata": {},
   "outputs": [],
   "source": [
    "for link in data[\"links\"]:\n",
    "    print(link)\n",
    "    try:\n",
    "        if link[\"title\"] == \"COPERNICUS_S1_GRD\":\n",
    "            href = link[\"href\"]\n",
    "            break\n",
    "    except:\n",
    "        pass\n",
    "    # break"
   ]
  },
  {
   "cell_type": "code",
   "execution_count": null,
   "id": "a18cd621-32e1-4cf3-9ce2-e9baea345266",
   "metadata": {},
   "outputs": [],
   "source": [
    "href"
   ]
  },
  {
   "cell_type": "code",
   "execution_count": null,
   "id": "326f2163-e058-4d85-8e43-511b3a4c8426",
   "metadata": {},
   "outputs": [],
   "source": [
    "stac_url = \"https://earth-search.aws.element84.com/v0\"\n",
    "catalog = pystac_client.Client.open(stac_url)\n",
    "catalog"
   ]
  },
  {
   "cell_type": "code",
   "execution_count": null,
   "id": "5f6f47a0-73f7-4b2d-9b13-6fe952148360",
   "metadata": {
    "tags": []
   },
   "outputs": [],
   "source": [
    "collections = list(catalog.get_collections())\n",
    "for collection in collections:\n",
    "    print(collection)"
   ]
  },
  {
   "cell_type": "code",
   "execution_count": null,
   "id": "acb623bf-11dc-468e-a12a-9746cc26f79a",
   "metadata": {},
   "outputs": [],
   "source": [
    "collection = catalog.get_child(\"sentinel-s2-l1c\")\n",
    "collection"
   ]
  },
  {
   "cell_type": "code",
   "execution_count": null,
   "id": "18655b41-d255-4f44-a74d-9b2d8c0cb2b6",
   "metadata": {},
   "outputs": [],
   "source": [
    "bbox = [139.4038110856679964, 38.1097418227999967, 139.4887555307919911, 38.1482418231080018]\n",
    "datetime = \"2021-08-01/2022-09-10\"\n",
    "\n",
    "# bbox = [xmin, ymin, xmax, ymax]\n",
    "# catalog = pystac_client.Client.open(\n",
    "#     \"https://planetarycomputer.microsoft.com/api/stac/v1\"\n",
    "# )\n",
    "search = catalog.search(\n",
    "    collections=[\"sentinel-s2-l1c\"], bbox=bbox, datetime=datetime)"
   ]
  },
  {
   "cell_type": "code",
   "execution_count": null,
   "id": "ab61db00-38b7-4d65-9504-bfd722150d07",
   "metadata": {},
   "outputs": [],
   "source": [
    "items = search.item_collection()\n",
    "print(f\"Found {len(items)} items\")"
   ]
  },
  {
   "cell_type": "code",
   "execution_count": null,
   "id": "e7d56730-1928-418b-a87f-6b9b257b4c99",
   "metadata": {},
   "outputs": [],
   "source": []
  },
  {
   "cell_type": "markdown",
   "id": "6cc37a24-b22c-4b26-b1df-4cf245efe2c3",
   "metadata": {
    "tags": []
   },
   "source": [
    "## PlanetaryComputer Interactions"
   ]
  },
  {
   "cell_type": "code",
   "execution_count": null,
   "id": "8aca585e-350b-4c28-92a1-6777551351c8",
   "metadata": {},
   "outputs": [],
   "source": [
    "import os\n",
    "import urllib\n",
    "\n",
    "import requests\n",
    "import pystac\n",
    "import pystac_client\n",
    "from pystac.extensions.eo import EOExtension as eo\n",
    "import planetary_computer\n",
    "import rasterio\n",
    "import stackstac\n",
    "import hvplot.xarray\n",
    "\n",
    "# import dask.diagnostics\n",
    "# with dask.diagnostics.ProgressBar():\n",
    "#     data = aoi.compute()"
   ]
  },
  {
   "cell_type": "code",
   "execution_count": null,
   "id": "45e0475b-e98c-4e8f-9b40-e63c03720fae",
   "metadata": {},
   "outputs": [],
   "source": [
    "# IF NEEDED, generate a token\n",
    "\n",
    "# BASE_TOKEN_URL = \"https://planetarycomputer.microsoft.com/api/sas/v1/token\"\n",
    "\n",
    "# collection = \"sentinel-2-l2a\"\n",
    "\n",
    "# url = os.path.join(BASE_TOKEN_URL, collection)\n",
    "\n",
    "# headers = {'accept': 'application/json'}\n",
    "# response = requests.get(url, headers=headers)\n",
    "# response.json()"
   ]
  },
  {
   "cell_type": "code",
   "execution_count": null,
   "id": "b3fad629-1a59-4a13-9620-f152259690c8",
   "metadata": {},
   "outputs": [],
   "source": []
  },
  {
   "cell_type": "code",
   "execution_count": null,
   "id": "26acd3b0-9e56-463b-b48c-5251f2909cbc",
   "metadata": {},
   "outputs": [],
   "source": [
    "%%time\n",
    "catalog = pystac_client.Client.open(\n",
    "    \"https://planetarycomputer.microsoft.com/api/stac/v1\",\n",
    "    modifier=planetary_computer.sign_inplace,\n",
    ")\n",
    "collections = list(catalog.get_collections())\n",
    "collections"
   ]
  },
  {
   "cell_type": "code",
   "execution_count": null,
   "id": "5a094612-a939-4c63-b9ef-c9b1979d4ba8",
   "metadata": {},
   "outputs": [],
   "source": [
    "# # Murakami\n",
    "# bbox = [139.4038110856679964, 38.1097418227999967, 139.4887555307919911, 38.1482418231080018]\n",
    "# datetime = \"2022-08-01/2022-08-04\"\n",
    "\n",
    "bbox = [-82.58766624, 25.56165135, -80.69396004, 27.16010966]  # SW Florida\n",
    "\n",
    "# bbox = [xmin, ymin, xmax, ymax]\n",
    "catalog = pystac_client.Client.open(\n",
    "    \"https://planetarycomputer.microsoft.com/api/stac/v1\"\n",
    ")\n",
    "search = catalog.search(\n",
    "    collections=[\"3dep-seamless\"], bbox=bbox   #  datetime=datetime\n",
    ")\n",
    "items = search.item_collection()\n",
    "print(f\"Found {len(items)} items\")"
   ]
  },
  {
   "cell_type": "code",
   "execution_count": null,
   "id": "db59f08d-d322-40aa-a2f1-5ab8487c70f3",
   "metadata": {},
   "outputs": [],
   "source": [
    "for item in items:\n",
    "    print(item)"
   ]
  },
  {
   "cell_type": "code",
   "execution_count": null,
   "id": "9cfd12b0-8e01-41fa-a610-45f12ff5d82f",
   "metadata": {},
   "outputs": [],
   "source": [
    "%env PC_SDK_SUBSCRIPTION_KEY=\"\"  # did this work or was it the command line approach??"
   ]
  },
  {
   "cell_type": "code",
   "execution_count": null,
   "id": "85586dcb-56e0-44f4-82fd-adc301ef141d",
   "metadata": {},
   "outputs": [],
   "source": [
    "item_signed = planetary_computer.sign(item)"
   ]
  },
  {
   "cell_type": "code",
   "execution_count": null,
   "id": "ff80c648-9db1-48b7-8ef6-12dae251aaea",
   "metadata": {},
   "outputs": [],
   "source": [
    "ds = stackstac.stack(item_signed)"
   ]
  },
  {
   "cell_type": "code",
   "execution_count": null,
   "id": "e1491eb1-6b00-4456-93c3-8dcb2bb91551",
   "metadata": {},
   "outputs": [],
   "source": [
    "vv = ds.sel(band=\"vh\").compute()"
   ]
  },
  {
   "cell_type": "code",
   "execution_count": null,
   "id": "e5653c95-b201-4459-a1c3-9b9b4ffb43e6",
   "metadata": {},
   "outputs": [],
   "source": [
    "vv"
   ]
  },
  {
   "cell_type": "code",
   "execution_count": null,
   "id": "8a06775b-b12c-4401-8076-4e2b3883cdf8",
   "metadata": {},
   "outputs": [],
   "source": [
    "ds.sel(band=\"vh\").hvplot.quadmesh(x='x',\n",
    "                                   y='y',\n",
    "                                   # title='dis',\n",
    "                                   # geo=True,\n",
    "                                   width=750,\n",
    "                                   height=700,\n",
    "                                   rasterize=True,\n",
    "                                   project=True,\n",
    "                                   cmap=\"bmw\",\n",
    "                                   # clim=(50, 100),\n",
    "                                   tiles='EsriImagery')"
   ]
  },
  {
   "cell_type": "code",
   "execution_count": null,
   "id": "353a2d98-8013-48a9-88ff-0935ce6db829",
   "metadata": {},
   "outputs": [],
   "source": [
    "collection = catalog.get_child(\"sentinel-1-rtc\")  # Need token to access!"
   ]
  },
  {
   "cell_type": "code",
   "execution_count": null,
   "id": "b2d2da92-7817-4068-a4f6-68f4bab06c74",
   "metadata": {},
   "outputs": [],
   "source": [
    "BASE_TOKEN_URL = \"https://planetarycomputer.microsoft.com/api/sas/v1/token\"\n",
    "\n",
    "collection = \"sentinel-1-rtc\"\n",
    "\n",
    "key = \"\"\n",
    "collection_url = collection + \"?subscription-key=\" + key\n",
    "\n",
    "url = os.path.join(BASE_TOKEN_URL, collection_url)\n",
    "url\n",
    "\n",
    "headers = {'accept': 'application/json'}\n",
    "response = requests.get(url, headers=headers)\n",
    "token = response.json()[\"token\"]\n",
    "token"
   ]
  },
  {
   "cell_type": "code",
   "execution_count": null,
   "id": "01edd6f7-ca83-447f-aede-5ad3434e3018",
   "metadata": {},
   "outputs": [],
   "source": [
    "sen1_rtc_url= \"https://planetarycomputer.microsoft.com/api/stac/v1/collections/sentinel-1-rtc\"\n",
    "sen1_rtc_url_token = sen1_rtc_url + \"?\" + token\n",
    "sen1_rtc_url_token"
   ]
  },
  {
   "cell_type": "code",
   "execution_count": null,
   "id": "723e5e09-f995-4628-ae1d-2a7aebffaf6c",
   "metadata": {},
   "outputs": [],
   "source": [
    "response = requests.get(sen1_rtc_url)\n",
    "collection_json = response.json()\n",
    "collection_json"
   ]
  },
  {
   "cell_type": "code",
   "execution_count": null,
   "id": "bcc45b8b-b761-4260-a980-2cfb86e66a9b",
   "metadata": {},
   "outputs": [],
   "source": [
    "pystac.Collection(collection_json)"
   ]
  },
  {
   "cell_type": "code",
   "execution_count": null,
   "id": "a0ffb120-462e-4df5-9f18-dab7999dd935",
   "metadata": {},
   "outputs": [],
   "source": [
    "search = pystac_client.ItemSearch(\n",
    "    url=sen1_rtc_url_token,\n",
    "    bbox=bbox_of_interest,\n",
    "    datetime=time_of_interest,\n",
    ")\n",
    "\n",
    "# # Check how many items were returned\n",
    "# items = search.item_collection()\n",
    "# print(f\"Returned {len(items)} Items\")"
   ]
  },
  {
   "cell_type": "code",
   "execution_count": null,
   "id": "a8955f7c-45f7-46bb-b18b-4232d193195c",
   "metadata": {},
   "outputs": [],
   "source": [
    "for item in search.items():\n",
    "    print(item.id)\n",
    "    break"
   ]
  },
  {
   "cell_type": "code",
   "execution_count": null,
   "id": "debb9265-f2ba-41ed-b828-eb0e6250fadf",
   "metadata": {},
   "outputs": [],
   "source": [
    "# Murakami City, JP\n",
    "bbox_of_interest = [139.4038110856679964, 38.1097418227999967, 139.4887555307919911, 38.1482418231080018]\n",
    "\n",
    "time_of_interest = \"2022-08-01/2022-08-06\""
   ]
  },
  {
   "cell_type": "code",
   "execution_count": null,
   "id": "b742b6eb-0ec5-4c8a-9c6e-80732aeb524f",
   "metadata": {},
   "outputs": [],
   "source": [
    "search = catalog.search(\n",
    "    collections=[\"sentinel-1-rtc\"],\n",
    "    bbox=bbox_of_interest,\n",
    "    datetime=time_of_interest,\n",
    ")\n",
    "\n",
    "# Check how many items were returned\n",
    "items = search.item_collection()\n",
    "print(f\"Returned {len(items)} Items\")"
   ]
  },
  {
   "cell_type": "code",
   "execution_count": null,
   "id": "26c10b0c-3ab3-4203-ab68-36197ca4cd60",
   "metadata": {},
   "outputs": [],
   "source": [
    "search = catalog.search(\n",
    "    collections=[\"sentinel-2-l2a\"],\n",
    "    # intersects=area_of_interest,\n",
    "    bbox=bbox_of_interest,\n",
    "    datetime=time_of_interest,\n",
    "    query={\"eo:cloud_cover\": {\"lt\": 90}},\n",
    ")\n",
    "\n",
    "# Check how many items were returned\n",
    "items = search.item_collection()\n",
    "print(f\"Returned {len(items)} Items\")"
   ]
  },
  {
   "cell_type": "code",
   "execution_count": null,
   "id": "7141ee23-c27d-42d4-bd3a-456e388c11a6",
   "metadata": {},
   "outputs": [],
   "source": [
    "item = items[0]\n",
    "item"
   ]
  },
  {
   "cell_type": "code",
   "execution_count": null,
   "id": "d9afb598-32cd-4b5b-bc70-ebc1a24e1d59",
   "metadata": {},
   "outputs": [],
   "source": [
    "blue_href = item.assets[\"B02\"].href\n",
    "green_href = item.assets[\"B03\"].href\n",
    "swir_href = item.assets[\"B11\"].href"
   ]
  },
  {
   "cell_type": "code",
   "execution_count": null,
   "id": "bd5ccd4b-e7c0-4e6c-9f69-07a3d6b8c540",
   "metadata": {},
   "outputs": [],
   "source": [
    "item.assets"
   ]
  },
  {
   "cell_type": "code",
   "execution_count": null,
   "id": "c45ed595-a58a-4b9b-81da-c5f87dc07c21",
   "metadata": {},
   "outputs": [],
   "source": [
    "%%time\n",
    "with rasterio.open(blue_href) as ds:\n",
    "    profile = ds.profile.copy()\n",
    "    arr_blue = ds.read(1)\n",
    "profile"
   ]
  },
  {
   "cell_type": "code",
   "execution_count": null,
   "id": "2764448b-d4eb-4488-9bab-9a640532e5ba",
   "metadata": {},
   "outputs": [],
   "source": [
    "arr_blue.shape"
   ]
  },
  {
   "cell_type": "code",
   "execution_count": null,
   "id": "530017e5-d127-4aa5-bc5c-75d207b0dabd",
   "metadata": {},
   "outputs": [],
   "source": [
    "arr_blue"
   ]
  },
  {
   "cell_type": "code",
   "execution_count": null,
   "id": "19a653d0-a198-483e-a222-4306c37c103a",
   "metadata": {},
   "outputs": [],
   "source": []
  }
 ],
 "metadata": {
  "kernelspec": {
   "display_name": "Python 3 (ipykernel)",
   "language": "python",
   "name": "python3"
  },
  "language_info": {
   "codemirror_mode": {
    "name": "ipython",
    "version": 3
   },
   "file_extension": ".py",
   "mimetype": "text/x-python",
   "name": "python",
   "nbconvert_exporter": "python",
   "pygments_lexer": "ipython3",
   "version": "3.10.6"
  }
 },
 "nbformat": 4,
 "nbformat_minor": 5
}
