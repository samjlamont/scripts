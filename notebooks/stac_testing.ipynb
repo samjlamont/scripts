{
 "cells": [
  {
   "cell_type": "markdown",
   "id": "2e2013e0-a1d7-4b64-921d-a9014beb04b8",
   "metadata": {},
   "source": [
    "### Creating a test One Concern STAC catalog "
   ]
  },
  {
   "cell_type": "code",
   "execution_count": null,
   "id": "2eb8cfe5-258e-4b02-9cf2-bae8eb07e7e0",
   "metadata": {},
   "outputs": [],
   "source": [
    "from pathlib import Path\n",
    "import pystac\n",
    "from pystac.extensions.projection import AssetProjectionExtension\n",
    "import fsspec\n",
    "import xarray as xr\n",
    "import rasterio\n",
    "import pandas as pd\n",
    "import json"
   ]
  },
  {
   "cell_type": "code",
   "execution_count": null,
   "id": "23eaff39-ced5-4c91-9e12-4cf821ed82ed",
   "metadata": {},
   "outputs": [],
   "source": [
    "def get_bbox(ds):\n",
    "    return ds.longitude.values.min(), ds.latitude.values.min(), ds.longitude.values.max(), ds.latitude.values.max()"
   ]
  },
  {
   "cell_type": "code",
   "execution_count": null,
   "id": "e1b55bef-d461-485a-b478-f841d3f2716b",
   "metadata": {},
   "outputs": [],
   "source": [
    "remote_path = \"gs://sam-temp-dev/kerchunk/jma_hist_rainfall_interpolated_nc_v2_consolidated_20060101_20190930.json\"  # JMA\n",
    "# remote_path = \"gs://sam-temp-dev/kerchunk/jwa_historical_reanalysis_rainfall_netcdf_20190901_20201231.json\"  # JWA\n",
    "\n",
    "ds_all = xr.open_dataset(\n",
    "    \"reference://\", engine=\"zarr\",\n",
    "    backend_kwargs={\n",
    "        \"storage_options\": {\n",
    "            \"fo\": remote_path,\n",
    "            \"remote_protocol\": \"gcs\",\n",
    "            \"remote_options\": {\"anon\": True}\n",
    "        },\n",
    "        \"consolidated\": False\n",
    "    }\n",
    ")\n",
    "ds_all"
   ]
  },
  {
   "cell_type": "code",
   "execution_count": null,
   "id": "5305f4b2-f814-4746-9006-1b610be6790a",
   "metadata": {},
   "outputs": [],
   "source": [
    "# # Read in the already created catalog\n",
    "# catalog = pystac.Catalog.from_file(\"/Users/slamont/stac/one-concern-stac-catalog/catalog.json\")\n",
    "# catalog.describe()"
   ]
  },
  {
   "cell_type": "code",
   "execution_count": null,
   "id": "3df651e4-8a42-4e30-b9d9-fc25f4b992af",
   "metadata": {},
   "outputs": [],
   "source": [
    "%%time\n",
    "\n",
    "# remote_path = \"https://storage.cloud.google.com/sam-temp-dev/kerchunk/jma_hist_rainfall_interpolated_nc_v2_consolidated_20060101_20190930.json\"  # JMA\n",
    "\n",
    "# Create the initial\n",
    "catalog = pystac.Catalog(\n",
    "    id='One Concern STAC catalog',\n",
    "    description='Various One Concern datasets supporting dev and prod operations',\n",
    "    stac_extensions=[\"https://stac-extensions.github.io/projection/v1.0.0/schema.json\"],\n",
    "    href=\"gs://sam-temp-dev/stac\",\n",
    "    catalog_type=pystac.CatalogType.SELF_CONTAINED,\n",
    ")\n",
    "\n",
    "bbox = get_bbox(ds_all)\n",
    "start_time = pd.to_datetime(ds_all.isel(time=0).time.values)\n",
    "end_time = pd.to_datetime(ds_all.isel(time=-1).time.values)\n",
    "href = remote_path\n",
    "\n",
    "item = pystac.Item(\n",
    "    id=\"jwa-historical-rainfall\",\n",
    "    geometry=[],\n",
    "    datetime=None,\n",
    "    bbox=bbox,\n",
    "    properties={\"institution\": \"One Concern\",\n",
    "                \"title\": \"JMA Interpolated Historical Rainfall (mm/hr)\",\n",
    "                \"start_datetime\": start_time.strftime('%Y-%m-%d %H:00'),\n",
    "                \"end_datetime\": end_time.strftime('%Y-%m-%d %H:00')},\n",
    "    stac_extensions=['https://stac-extensions.github.io/projection/v1.0.0/schema.json'],\n",
    "    href=remote_path)\n",
    "\n",
    "# item.set_self_href(out_stac)\n",
    "\n",
    "# Add asset\n",
    "item.add_asset(key=\"jma\", asset=pystac.Asset(href=remote_path,\n",
    "                                             title=\"rainrate\",\n",
    "                                             media_type=pystac.MediaType.HDF5))\n",
    "\n",
    "# extend the asset with projection extension\n",
    "asset_ext = AssetProjectionExtension.ext(item.assets[\"jma\"])\n",
    "asset_ext.epsg = 4326\n",
    "asset_ext.shape = ds_all.rainrate.shape\n",
    "asset_ext.bbox = bbox\n",
    "asset_ext.transform = rasterio.transform.from_bounds(bbox[0], bbox[1], bbox[2], bbox[3], ds_all.rainrate.shape[1], ds_all.rainrate.shape[0])\n",
    "\n",
    "# Get the current (and only) collection and add the new item\n",
    "# collection = list(catalog.get_collections())[0]\n",
    "\n",
    "# Create the collection, add the item, then add to catalog\n",
    "spatial_extent = pystac.SpatialExtent(bboxes=[bbox])\n",
    "temporal_extent = pystac.TemporalExtent([[start_time, end_time]])\n",
    "collection_extent = pystac.Extent(spatial=spatial_extent, temporal=temporal_extent)\n",
    "collection = pystac.Collection(id=\"weather-data\",\n",
    "                               description=\"Historic rainfall and meteorological data from various sources (JMA, JWA, etc)\",\n",
    "                               extent=collection_extent,\n",
    "                               license='test')\n",
    "\n",
    "# if we add a collection we MUST add a link\n",
    "item.add_link(\n",
    "    pystac.Link(\n",
    "        pystac.RelType.COLLECTION,\n",
    "        \"weather-data\",\n",
    "        media_type=pystac.MediaType.HDF5,\n",
    "    )\n",
    ")\n",
    "\n",
    "collection.add_item(item)\n",
    "catalog.add_child(collection)"
   ]
  },
  {
   "cell_type": "code",
   "execution_count": null,
   "id": "bdca2e3a-23d3-4968-bd62-1ad803476ada",
   "metadata": {},
   "outputs": [],
   "source": [
    "# catalog.make_all_asset_hrefs_relative()\n",
    "catalog.normalize_hrefs(\"gs://sam-temp-dev/stac/one-concern-stac-catalog\")\n",
    "catalog.get_self_href()"
   ]
  },
  {
   "cell_type": "code",
   "execution_count": null,
   "id": "3c44fe1e-3297-4543-bfa5-483410b28638",
   "metadata": {},
   "outputs": [],
   "source": [
    "catalog"
   ]
  },
  {
   "cell_type": "markdown",
   "id": "2c8fa9b9-1ba2-4aab-8f26-c7a0a58b9b47",
   "metadata": {},
   "source": [
    "### Write the catalog directly to GCS"
   ]
  },
  {
   "cell_type": "code",
   "execution_count": null,
   "id": "93758cef-8967-4c57-aecf-b64b415de65c",
   "metadata": {},
   "outputs": [],
   "source": [
    "%%time\n",
    "import gcsfs\n",
    "fs = gcsfs.GCSFileSystem()  # project='onec-dev'\n",
    "indent=2\n",
    "\n",
    "# Write catalog\n",
    "with fs.open(\"gs://sam-temp-dev/stac/one-concern-stac-catalog/catalog.json\", \"w\", content_type=\"application/json\") as f:\n",
    "    f.write(json.dumps(catalog.to_dict(), indent=indent))\n",
    "\n",
    "# Write collection\n",
    "with fs.open(\"gs://sam-temp-dev/stac/one-concern-stac-catalog/weather-data/collection.json\", \"w\", content_type=\"application/json\") as f:\n",
    "    f.write(json.dumps(collection.to_dict(), indent=indent))\n",
    "\n",
    "# Write item(s)\n",
    "with fs.open(\"gs://sam-temp-dev/stac/one-concern-stac-catalog/weather-data/jwa-historical-rainfall/jwa-historical-rainfall.json\", \"w\", content_type=\"application/json\") as f:\n",
    "    f.write(json.dumps(item.to_dict(), indent=indent))"
   ]
  },
  {
   "cell_type": "markdown",
   "id": "32a35878-fefe-40e4-8ac8-efedffc7d2fa",
   "metadata": {},
   "source": [
    "### To read the catalog from GCS, we need to re-define the StacIO class to use fsspec\n",
    "(taken from stactools: https://stactools.readthedocs.io/en/latest/_modules/stactools/core/io.html#FsspecStacIO)"
   ]
  },
  {
   "cell_type": "code",
   "execution_count": null,
   "id": "adfbb04d-fb56-41b2-97d6-b3a89b2f13f7",
   "metadata": {},
   "outputs": [],
   "source": [
    "from pystac.stac_io import DefaultStacIO, StacIO\n",
    "\n",
    "class FsspecStacIO(DefaultStacIO):\n",
    "    \"\"\"A subclass of :py:class:`pystac.DefaultStacIO` that uses `fsspec\n",
    "    <https://filesystem-spec.readthedocs.io/en/latest/>`_ for reads and writes.\n",
    "    \"\"\"\n",
    "\n",
    "    def read_text_from_href(self, href: str) -> str:\n",
    "        \"\"\"Reads a file as a utf-8 string using `fsspec\n",
    "        <https://filesystem-spec.readthedocs.io/en/latest/>`_\n",
    "\n",
    "        Args:\n",
    "            href (str): The href to read.\n",
    "\n",
    "        Returns:\n",
    "            str: The read text, decoded as utf-8 if necessary.\n",
    "        \"\"\" \n",
    "        with fsspec.open(href, \"r\") as f:\n",
    "            s = f.read()\n",
    "            if isinstance(s, str):\n",
    "                return s\n",
    "            elif isinstance(s, bytes):\n",
    "                return str(s, encoding=\"utf-8\")\n",
    "            else:\n",
    "                raise ValueError(f\"Unable to decode data loaded from HREF: {href}\")\n",
    "                \n",
    "StacIO.set_default(FsspecStacIO)"
   ]
  },
  {
   "cell_type": "code",
   "execution_count": null,
   "id": "c5227007-7f0f-4db3-b73d-610f3200994e",
   "metadata": {},
   "outputs": [],
   "source": [
    "pystac.Catalog.from_file(\"gs://sam-temp-dev/stac/one-concern-stac-catalog/catalog.json\")  #, stac_io=FsspecStacIO)"
   ]
  },
  {
   "cell_type": "markdown",
   "id": "ba0811e7-6a4c-4f11-9db0-d86df41eea6b",
   "metadata": {},
   "source": [
    "### Other testing is below here"
   ]
  },
  {
   "cell_type": "code",
   "execution_count": null,
   "id": "0f42b914-3cb0-40c4-a192-5d19edec2d28",
   "metadata": {},
   "outputs": [],
   "source": [
    "with fsspec.open(\"gs://sam-temp-dev/stac/one-concern-stac-catalog/catalog.json\") as file: \n",
    "    data = json.load(file)\n",
    "    \n",
    "cat_gcs = pystac.Catalog.from_dict(data) # , root=\"https://storage.cloud.google.com/sam-temp-dev/stac/one-concern-stac-catalog/catalog.json\")\n",
    "cat_gcs"
   ]
  },
  {
   "cell_type": "code",
   "execution_count": null,
   "id": "8371daab-ecb8-4c25-98a1-ab64a6a4adc1",
   "metadata": {},
   "outputs": [],
   "source": [
    "collections = list(catalog.get_collections())"
   ]
  },
  {
   "cell_type": "code",
   "execution_count": null,
   "id": "2f465dd4-d04f-40e9-b75b-5076f57671ed",
   "metadata": {},
   "outputs": [],
   "source": [
    "for collection in collections:\n",
    "    print(collection)"
   ]
  },
  {
   "cell_type": "code",
   "execution_count": null,
   "id": "70d338f3-1b84-408f-b6e7-c77b7fe0b8c4",
   "metadata": {},
   "outputs": [],
   "source": [
    "collection = catalog.get_child(\"weather-data\")\n",
    "collection"
   ]
  },
  {
   "cell_type": "code",
   "execution_count": null,
   "id": "e8271dd4-9d99-43cc-95af-68a2e7efd43a",
   "metadata": {},
   "outputs": [],
   "source": [
    "for root, subcategories, items in catalog.walk():\n",
    "\n",
    "    print('{} is the current root in the STAC'.format(root.id))\n",
    "    print('Are there any any STAC validation errors ?: {}'.format(root.validate()))\n",
    "    \n",
    "    for subcat in subcategories:\n",
    "        print('{} is a subcatalog or collection for the current root in the STAC'.format(subcat.id))\n",
    "        print('Are there any STAC validation errors ?: {}'.format(subcat.validate()))\n",
    "        \n",
    "    for item in items:\n",
    "        print('{} is a STAC Item within the current root'.format(item.id))\n",
    "        print('Are there any STAC validation errors ?: {}'.format(item.validate()))"
   ]
  },
  {
   "cell_type": "markdown",
   "id": "8e214c42-023c-403a-a4be-188042fdb777",
   "metadata": {},
   "source": [
    "### GEE STAC Catalog"
   ]
  },
  {
   "cell_type": "code",
   "execution_count": null,
   "id": "9692150c-42c2-45a2-856e-cbfd257db4f0",
   "metadata": {},
   "outputs": [],
   "source": [
    "gee_cat_path = \"https://earthengine-stac.storage.googleapis.com/catalog/catalog.json\""
   ]
  },
  {
   "cell_type": "code",
   "execution_count": null,
   "id": "737958cb-d42c-4394-bea0-f009aa451481",
   "metadata": {},
   "outputs": [],
   "source": [
    "sen2_level2a = \"https://storage.googleapis.com/earthengine-stac/catalog/COPERNICUS/COPERNICUS_S2_CLOUD_PROBABILITY.json\""
   ]
  },
  {
   "cell_type": "code",
   "execution_count": null,
   "id": "8a096e50-6113-42b0-9ec4-91d481f38f0a",
   "metadata": {},
   "outputs": [],
   "source": [
    "stac_url = (\n",
    "    \"https://earthengine-stac.storage.googleapis.com/catalog/catalog.json\"  # https://earthengine-stac.storage.googleapis.com/catalog/catalog.json\n",
    ")\n",
    "\n",
    "stac_url = \"https://storage.googleapis.com/earthengine-stac/catalog/COPERNICUS/catalog.json\"\n",
    "\n",
    "stac_url = 'https://storage.googleapis.com/earthengine-stac/catalog/COPERNICUS/COPERNICUS_S1_GRD.json'\n",
    "\n",
    "with urllib.request.urlopen(stac_url) as url:\n",
    "    data = json.loads(url.read().decode())\n"
   ]
  },
  {
   "cell_type": "code",
   "execution_count": null,
   "id": "bd1438d9-69d4-4061-aec8-42a192ee8232",
   "metadata": {},
   "outputs": [],
   "source": [
    "data"
   ]
  },
  {
   "cell_type": "code",
   "execution_count": null,
   "id": "253c5e12-08c7-4ec0-9862-b190a63d31f4",
   "metadata": {},
   "outputs": [],
   "source": [
    "for link in data[\"links\"]:\n",
    "    print(link)\n",
    "    try:\n",
    "        if link[\"title\"] == \"COPERNICUS_S1_GRD\":\n",
    "            href = link[\"href\"]\n",
    "            break\n",
    "    except:\n",
    "        pass\n",
    "    # break"
   ]
  },
  {
   "cell_type": "code",
   "execution_count": null,
   "id": "a18cd621-32e1-4cf3-9ce2-e9baea345266",
   "metadata": {},
   "outputs": [],
   "source": [
    "href"
   ]
  },
  {
   "cell_type": "code",
   "execution_count": null,
   "id": "326f2163-e058-4d85-8e43-511b3a4c8426",
   "metadata": {},
   "outputs": [],
   "source": [
    "stac_url = \"https://earth-search.aws.element84.com/v0\"\n",
    "catalog = pystac_client.Client.open(stac_url)\n",
    "catalog"
   ]
  },
  {
   "cell_type": "code",
   "execution_count": null,
   "id": "5f6f47a0-73f7-4b2d-9b13-6fe952148360",
   "metadata": {
    "tags": []
   },
   "outputs": [],
   "source": [
    "collections = list(catalog.get_collections())\n",
    "for collection in collections:\n",
    "    print(collection)"
   ]
  },
  {
   "cell_type": "code",
   "execution_count": null,
   "id": "acb623bf-11dc-468e-a12a-9746cc26f79a",
   "metadata": {},
   "outputs": [],
   "source": [
    "collection = catalog.get_child(\"sentinel-s2-l1c\")\n",
    "collection"
   ]
  },
  {
   "cell_type": "code",
   "execution_count": null,
   "id": "18655b41-d255-4f44-a74d-9b2d8c0cb2b6",
   "metadata": {},
   "outputs": [],
   "source": [
    "bbox = [139.4038110856679964, 38.1097418227999967, 139.4887555307919911, 38.1482418231080018]\n",
    "datetime = \"2021-08-01/2022-09-10\"\n",
    "\n",
    "# bbox = [xmin, ymin, xmax, ymax]\n",
    "# catalog = pystac_client.Client.open(\n",
    "#     \"https://planetarycomputer.microsoft.com/api/stac/v1\"\n",
    "# )\n",
    "search = catalog.search(\n",
    "    collections=[\"sentinel-s2-l1c\"], bbox=bbox, datetime=datetime)"
   ]
  },
  {
   "cell_type": "code",
   "execution_count": null,
   "id": "ab61db00-38b7-4d65-9504-bfd722150d07",
   "metadata": {},
   "outputs": [],
   "source": [
    "items = search.item_collection()\n",
    "print(f\"Found {len(items)} items\")"
   ]
  },
  {
   "cell_type": "code",
   "execution_count": null,
   "id": "e7d56730-1928-418b-a87f-6b9b257b4c99",
   "metadata": {},
   "outputs": [],
   "source": []
  },
  {
   "cell_type": "markdown",
   "id": "6cc37a24-b22c-4b26-b1df-4cf245efe2c3",
   "metadata": {
    "tags": []
   },
   "source": [
    "## PlanetaryComputer Interactions"
   ]
  },
  {
   "cell_type": "code",
   "execution_count": null,
   "id": "8aca585e-350b-4c28-92a1-6777551351c8",
   "metadata": {},
   "outputs": [],
   "source": [
    "import os\n",
    "import urllib\n",
    "\n",
    "import requests\n",
    "import pystac\n",
    "import pystac_client\n",
    "from pystac.extensions.eo import EOExtension as eo\n",
    "import planetary_computer\n",
    "import rasterio\n",
    "import stackstac\n",
    "import hvplot.xarray\n",
    "\n",
    "# import dask.diagnostics\n",
    "# with dask.diagnostics.ProgressBar():\n",
    "#     data = aoi.compute()"
   ]
  },
  {
   "cell_type": "code",
   "execution_count": null,
   "id": "45e0475b-e98c-4e8f-9b40-e63c03720fae",
   "metadata": {},
   "outputs": [],
   "source": [
    "# IF NEEDED, generate a token\n",
    "\n",
    "# BASE_TOKEN_URL = \"https://planetarycomputer.microsoft.com/api/sas/v1/token\"\n",
    "\n",
    "# collection = \"sentinel-2-l2a\"\n",
    "\n",
    "# url = os.path.join(BASE_TOKEN_URL, collection)\n",
    "\n",
    "# headers = {'accept': 'application/json'}\n",
    "# response = requests.get(url, headers=headers)\n",
    "# response.json()"
   ]
  },
  {
   "cell_type": "code",
   "execution_count": null,
   "id": "b3fad629-1a59-4a13-9620-f152259690c8",
   "metadata": {},
   "outputs": [],
   "source": []
  },
  {
   "cell_type": "code",
   "execution_count": null,
   "id": "26acd3b0-9e56-463b-b48c-5251f2909cbc",
   "metadata": {},
   "outputs": [],
   "source": [
    "%%time\n",
    "catalog = pystac_client.Client.open(\n",
    "    \"https://planetarycomputer.microsoft.com/api/stac/v1\",\n",
    "    modifier=planetary_computer.sign_inplace,\n",
    ")\n",
    "collections = list(catalog.get_collections())\n",
    "collections"
   ]
  },
  {
   "cell_type": "code",
   "execution_count": null,
   "id": "5a094612-a939-4c63-b9ef-c9b1979d4ba8",
   "metadata": {},
   "outputs": [],
   "source": [
    "# # Murakami\n",
    "# bbox = [139.4038110856679964, 38.1097418227999967, 139.4887555307919911, 38.1482418231080018]\n",
    "# datetime = \"2022-08-01/2022-08-04\"\n",
    "\n",
    "bbox = [-82.58766624, 25.56165135, -80.69396004, 27.16010966]  # SW Florida\n",
    "\n",
    "# bbox = [xmin, ymin, xmax, ymax]\n",
    "catalog = pystac_client.Client.open(\n",
    "    \"https://planetarycomputer.microsoft.com/api/stac/v1\"\n",
    ")\n",
    "search = catalog.search(\n",
    "    collections=[\"3dep-seamless\"], bbox=bbox   #  datetime=datetime\n",
    ")\n",
    "items = search.item_collection()\n",
    "print(f\"Found {len(items)} items\")"
   ]
  },
  {
   "cell_type": "code",
   "execution_count": null,
   "id": "db59f08d-d322-40aa-a2f1-5ab8487c70f3",
   "metadata": {},
   "outputs": [],
   "source": [
    "for item in items:\n",
    "    print(item)"
   ]
  },
  {
   "cell_type": "code",
   "execution_count": null,
   "id": "9cfd12b0-8e01-41fa-a610-45f12ff5d82f",
   "metadata": {},
   "outputs": [],
   "source": [
    "%env PC_SDK_SUBSCRIPTION_KEY=\"3f5d9411e2d8491387615b1f4c95e018\"  # did this work or was it the command line approach??"
   ]
  },
  {
   "cell_type": "code",
   "execution_count": null,
   "id": "85586dcb-56e0-44f4-82fd-adc301ef141d",
   "metadata": {},
   "outputs": [],
   "source": [
    "item_signed = planetary_computer.sign(item)"
   ]
  },
  {
   "cell_type": "code",
   "execution_count": null,
   "id": "ff80c648-9db1-48b7-8ef6-12dae251aaea",
   "metadata": {},
   "outputs": [],
   "source": [
    "ds = stackstac.stack(item_signed)"
   ]
  },
  {
   "cell_type": "code",
   "execution_count": null,
   "id": "e1491eb1-6b00-4456-93c3-8dcb2bb91551",
   "metadata": {},
   "outputs": [],
   "source": [
    "vv = ds.sel(band=\"vh\").compute()"
   ]
  },
  {
   "cell_type": "code",
   "execution_count": null,
   "id": "e5653c95-b201-4459-a1c3-9b9b4ffb43e6",
   "metadata": {},
   "outputs": [],
   "source": [
    "vv"
   ]
  },
  {
   "cell_type": "code",
   "execution_count": null,
   "id": "8a06775b-b12c-4401-8076-4e2b3883cdf8",
   "metadata": {},
   "outputs": [],
   "source": [
    "ds.sel(band=\"vh\").hvplot.quadmesh(x='x',\n",
    "                                   y='y',\n",
    "                                   # title='dis',\n",
    "                                   # geo=True,\n",
    "                                   width=750,\n",
    "                                   height=700,\n",
    "                                   rasterize=True,\n",
    "                                   project=True,\n",
    "                                   cmap=\"bmw\",\n",
    "                                   # clim=(50, 100),\n",
    "                                   tiles='EsriImagery')"
   ]
  },
  {
   "cell_type": "code",
   "execution_count": null,
   "id": "353a2d98-8013-48a9-88ff-0935ce6db829",
   "metadata": {},
   "outputs": [],
   "source": [
    "collection = catalog.get_child(\"sentinel-1-rtc\")  # Need token to access!"
   ]
  },
  {
   "cell_type": "code",
   "execution_count": null,
   "id": "b2d2da92-7817-4068-a4f6-68f4bab06c74",
   "metadata": {},
   "outputs": [],
   "source": [
    "BASE_TOKEN_URL = \"https://planetarycomputer.microsoft.com/api/sas/v1/token\"\n",
    "\n",
    "collection = \"sentinel-1-rtc\"\n",
    "\n",
    "key = \"3f5d9411e2d8491387615b1f4c95e018\"\n",
    "collection_url = collection + \"?subscription-key=\" + key\n",
    "\n",
    "url = os.path.join(BASE_TOKEN_URL, collection_url)\n",
    "url\n",
    "\n",
    "headers = {'accept': 'application/json'}\n",
    "response = requests.get(url, headers=headers)\n",
    "token = response.json()[\"token\"]\n",
    "token"
   ]
  },
  {
   "cell_type": "code",
   "execution_count": null,
   "id": "01edd6f7-ca83-447f-aede-5ad3434e3018",
   "metadata": {},
   "outputs": [],
   "source": [
    "sen1_rtc_url= \"https://planetarycomputer.microsoft.com/api/stac/v1/collections/sentinel-1-rtc\"\n",
    "sen1_rtc_url_token = sen1_rtc_url + \"?\" + token\n",
    "sen1_rtc_url_token"
   ]
  },
  {
   "cell_type": "code",
   "execution_count": null,
   "id": "723e5e09-f995-4628-ae1d-2a7aebffaf6c",
   "metadata": {},
   "outputs": [],
   "source": [
    "response = requests.get(sen1_rtc_url)\n",
    "collection_json = response.json()\n",
    "collection_json"
   ]
  },
  {
   "cell_type": "code",
   "execution_count": null,
   "id": "bcc45b8b-b761-4260-a980-2cfb86e66a9b",
   "metadata": {},
   "outputs": [],
   "source": [
    "pystac.Collection(collection_json)"
   ]
  },
  {
   "cell_type": "code",
   "execution_count": null,
   "id": "a0ffb120-462e-4df5-9f18-dab7999dd935",
   "metadata": {},
   "outputs": [],
   "source": [
    "search = pystac_client.ItemSearch(\n",
    "    url=sen1_rtc_url_token,\n",
    "    bbox=bbox_of_interest,\n",
    "    datetime=time_of_interest,\n",
    ")\n",
    "\n",
    "# # Check how many items were returned\n",
    "# items = search.item_collection()\n",
    "# print(f\"Returned {len(items)} Items\")"
   ]
  },
  {
   "cell_type": "code",
   "execution_count": null,
   "id": "a8955f7c-45f7-46bb-b18b-4232d193195c",
   "metadata": {},
   "outputs": [],
   "source": [
    "for item in search.items():\n",
    "    print(item.id)\n",
    "    break"
   ]
  },
  {
   "cell_type": "code",
   "execution_count": null,
   "id": "debb9265-f2ba-41ed-b828-eb0e6250fadf",
   "metadata": {},
   "outputs": [],
   "source": [
    "# Murakami City, JP\n",
    "bbox_of_interest = [139.4038110856679964, 38.1097418227999967, 139.4887555307919911, 38.1482418231080018]\n",
    "\n",
    "time_of_interest = \"2022-08-01/2022-08-06\""
   ]
  },
  {
   "cell_type": "code",
   "execution_count": null,
   "id": "b742b6eb-0ec5-4c8a-9c6e-80732aeb524f",
   "metadata": {},
   "outputs": [],
   "source": [
    "search = catalog.search(\n",
    "    collections=[\"sentinel-1-rtc\"],\n",
    "    bbox=bbox_of_interest,\n",
    "    datetime=time_of_interest,\n",
    ")\n",
    "\n",
    "# Check how many items were returned\n",
    "items = search.item_collection()\n",
    "print(f\"Returned {len(items)} Items\")"
   ]
  },
  {
   "cell_type": "code",
   "execution_count": null,
   "id": "26c10b0c-3ab3-4203-ab68-36197ca4cd60",
   "metadata": {},
   "outputs": [],
   "source": [
    "search = catalog.search(\n",
    "    collections=[\"sentinel-2-l2a\"],\n",
    "    # intersects=area_of_interest,\n",
    "    bbox=bbox_of_interest,\n",
    "    datetime=time_of_interest,\n",
    "    query={\"eo:cloud_cover\": {\"lt\": 90}},\n",
    ")\n",
    "\n",
    "# Check how many items were returned\n",
    "items = search.item_collection()\n",
    "print(f\"Returned {len(items)} Items\")"
   ]
  },
  {
   "cell_type": "code",
   "execution_count": null,
   "id": "7141ee23-c27d-42d4-bd3a-456e388c11a6",
   "metadata": {},
   "outputs": [],
   "source": [
    "item = items[0]\n",
    "item"
   ]
  },
  {
   "cell_type": "code",
   "execution_count": null,
   "id": "d9afb598-32cd-4b5b-bc70-ebc1a24e1d59",
   "metadata": {},
   "outputs": [],
   "source": [
    "blue_href = item.assets[\"B02\"].href\n",
    "green_href = item.assets[\"B03\"].href\n",
    "swir_href = item.assets[\"B11\"].href"
   ]
  },
  {
   "cell_type": "code",
   "execution_count": null,
   "id": "bd5ccd4b-e7c0-4e6c-9f69-07a3d6b8c540",
   "metadata": {},
   "outputs": [],
   "source": [
    "item.assets"
   ]
  },
  {
   "cell_type": "code",
   "execution_count": null,
   "id": "c45ed595-a58a-4b9b-81da-c5f87dc07c21",
   "metadata": {},
   "outputs": [],
   "source": [
    "%%time\n",
    "with rasterio.open(blue_href) as ds:\n",
    "    profile = ds.profile.copy()\n",
    "    arr_blue = ds.read(1)\n",
    "profile"
   ]
  },
  {
   "cell_type": "code",
   "execution_count": null,
   "id": "2764448b-d4eb-4488-9bab-9a640532e5ba",
   "metadata": {},
   "outputs": [],
   "source": [
    "arr_blue.shape"
   ]
  },
  {
   "cell_type": "code",
   "execution_count": null,
   "id": "530017e5-d127-4aa5-bc5c-75d207b0dabd",
   "metadata": {},
   "outputs": [],
   "source": [
    "arr_blue"
   ]
  },
  {
   "cell_type": "code",
   "execution_count": null,
   "id": "19a653d0-a198-483e-a222-4306c37c103a",
   "metadata": {},
   "outputs": [],
   "source": []
  }
 ],
 "metadata": {
  "kernelspec": {
   "display_name": "Python 3 (ipykernel)",
   "language": "python",
   "name": "python3"
  },
  "language_info": {
   "codemirror_mode": {
    "name": "ipython",
    "version": 3
   },
   "file_extension": ".py",
   "mimetype": "text/x-python",
   "name": "python",
   "nbconvert_exporter": "python",
   "pygments_lexer": "ipython3",
   "version": "3.10.6"
  }
 },
 "nbformat": 4,
 "nbformat_minor": 5
}
